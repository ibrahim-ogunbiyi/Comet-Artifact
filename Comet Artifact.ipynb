{
 "cells": [
  {
   "cell_type": "markdown",
   "id": "44b32d36-47b7-44e2-b3ca-d0dc1be14e4e",
   "metadata": {},
   "source": [
    "## Logging to New Expriment"
   ]
  },
  {
   "cell_type": "code",
   "execution_count": null,
   "id": "b392525d-f30e-45fe-b914-cbff47a6a0ae",
   "metadata": {},
   "outputs": [],
   "source": [
    "#import the necessary library\n",
    "import comet_ml\n",
    "from comet_ml import Artifact, Experiment\n",
    "\n",
    "#Initalize comet instance for API Key\n",
    "comet_ml.init()\n",
    "\n",
    "#create and experiment\n",
    "experiment = Experiment(project_name=\"Bank Churners Experiment\", workspace=\"ibrahim-ogunbiyi\")\n",
    "\n",
    "# Intialize Artifact\n",
    "artifact = Artifact(name=\"BankerChurners\", artifact_type=\"dataset\")\n",
    "\n",
    "#Specify the path of the artifact\n",
    "artifact.add(r\"C:\\Users\\admin\\Documents\\ML_PROJECT\\Comet.ML Project\\BankChurners.csv\")\n",
    "\n",
    "#log artifact to experiment [comet platform]\n",
    "experiment.log_artifact(artifact)\n",
    "\n",
    "#end the experiment\n",
    "experiment.end()"
   ]
  },
  {
   "cell_type": "markdown",
   "id": "539598d7-e81f-4c8f-897e-619462b5d440",
   "metadata": {},
   "source": [
    "## Logging to Existing Experiment"
   ]
  },
  {
   "cell_type": "code",
   "execution_count": null,
   "id": "afba900b-6c48-49cd-8903-1f565d8c749e",
   "metadata": {},
   "outputs": [],
   "source": [
    "#import necessary libraries\n",
    "import comet_ml\n",
    "from comet_ml import Artifact, ExistingExperiment\n",
    "\n",
    "#intialize comet for API ley\n",
    "comet_ml.init()\n",
    "\n",
    "#initialize the ExistingExperiment Object and pass in the name of project the experiment belong also with it key\n",
    "exp = ExistingExperiment(project_name = \"customer_churn\", experiment_key=\"85d50008eb9042788a0ea9037737df79\")\n",
    "\n",
    "#Intialize artifact and specify name and type\n",
    "artifact = Artifact(name=\"BankerChurners\", artifact_type=\"dataset\")\n",
    "\n",
    "#Add the path of artifact\n",
    "artifact.add(r\"C:\\Users\\admin\\Documents\\ML_PROJECT\\Comet.ML Project\\BankChurners.csv\")\n",
    "\n",
    "#Log artifact\n",
    "exp.log_artifact(artifact)\n",
    "\n",
    "#end experiment\n",
    "exp.end()"
   ]
  },
  {
   "cell_type": "markdown",
   "id": "db168238-a657-4116-b518-f6a0ad5b9bc5",
   "metadata": {},
   "source": [
    "## Downloading Artifact"
   ]
  },
  {
   "cell_type": "code",
   "execution_count": null,
   "id": "224eb381-0c7b-4956-8514-6faccc697a76",
   "metadata": {},
   "outputs": [],
   "source": [
    "import comet_ml\n",
    "from comet_ml import Experiment\n",
    "\n",
    "comet_ml.init()\n",
    "\n",
    "\n",
    "experiment = Experiment()\n",
    "logged_artifact = experiment.get_artifact(\n",
    "    artifact_name=\"BankerChurners\",\n",
    "    workspace=\"ibrahim-ogunbiyi\",\n",
    ")\n",
    "\n",
    "\n",
    "local_artifact = logged_artifact.download(\"C:/Users/admin/Documents/ML_PROJECT/\")"
   ]
  },
  {
   "cell_type": "code",
   "execution_count": null,
   "id": "95b82649-df05-4c99-a921-017755cb2991",
   "metadata": {},
   "outputs": [],
   "source": []
  }
 ],
 "metadata": {
  "kernelspec": {
   "display_name": "Python 3 (ipykernel)",
   "language": "python",
   "name": "python3"
  },
  "language_info": {
   "codemirror_mode": {
    "name": "ipython",
    "version": 3
   },
   "file_extension": ".py",
   "mimetype": "text/x-python",
   "name": "python",
   "nbconvert_exporter": "python",
   "pygments_lexer": "ipython3",
   "version": "3.10.6"
  }
 },
 "nbformat": 4,
 "nbformat_minor": 5
}
